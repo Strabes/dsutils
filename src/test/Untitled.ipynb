{
 "cells": [
  {
   "cell_type": "code",
   "execution_count": 3,
   "metadata": {},
   "outputs": [],
   "source": [
    "import os\n",
    "import pandas as pd\n",
    "import numpy as np"
   ]
  },
  {
   "cell_type": "code",
   "execution_count": 2,
   "metadata": {},
   "outputs": [],
   "source": [
    "from dsutils._decorators import _groupby_apply_ungroup"
   ]
  },
  {
   "cell_type": "code",
   "execution_count": 14,
   "metadata": {},
   "outputs": [],
   "source": [
    "N=1000"
   ]
  },
  {
   "cell_type": "code",
   "execution_count": 15,
   "metadata": {},
   "outputs": [],
   "source": [
    "df = pd.DataFrame(\n",
    "{\n",
    "    \"letters\": np.random.choice(list(\"ABCD\"),size=N),\n",
    "    \"ints\": np.random.randint(0,100,N),\n",
    "    \"nums\": np.random.lognormal(size=N)\n",
    "})"
   ]
  },
  {
   "cell_type": "code",
   "execution_count": 18,
   "metadata": {},
   "outputs": [
    {
     "data": {
      "text/html": [
       "<div>\n",
       "<style scoped>\n",
       "    .dataframe tbody tr th:only-of-type {\n",
       "        vertical-align: middle;\n",
       "    }\n",
       "\n",
       "    .dataframe tbody tr th {\n",
       "        vertical-align: top;\n",
       "    }\n",
       "\n",
       "    .dataframe thead th {\n",
       "        text-align: right;\n",
       "    }\n",
       "</style>\n",
       "<table border=\"1\" class=\"dataframe\">\n",
       "  <thead>\n",
       "    <tr style=\"text-align: right;\">\n",
       "      <th></th>\n",
       "      <th>letters</th>\n",
       "      <th>ints</th>\n",
       "      <th>nums</th>\n",
       "      <th>whatever</th>\n",
       "    </tr>\n",
       "  </thead>\n",
       "  <tbody>\n",
       "    <tr>\n",
       "      <th>0</th>\n",
       "      <td>A</td>\n",
       "      <td>67</td>\n",
       "      <td>3.437796</td>\n",
       "      <td>1.564087</td>\n",
       "    </tr>\n",
       "    <tr>\n",
       "      <th>1</th>\n",
       "      <td>A</td>\n",
       "      <td>70</td>\n",
       "      <td>0.200191</td>\n",
       "      <td>1.564087</td>\n",
       "    </tr>\n",
       "    <tr>\n",
       "      <th>2</th>\n",
       "      <td>A</td>\n",
       "      <td>64</td>\n",
       "      <td>2.216005</td>\n",
       "      <td>1.564087</td>\n",
       "    </tr>\n",
       "    <tr>\n",
       "      <th>3</th>\n",
       "      <td>D</td>\n",
       "      <td>98</td>\n",
       "      <td>0.915473</td>\n",
       "      <td>1.615334</td>\n",
       "    </tr>\n",
       "    <tr>\n",
       "      <th>4</th>\n",
       "      <td>B</td>\n",
       "      <td>7</td>\n",
       "      <td>0.826135</td>\n",
       "      <td>1.728989</td>\n",
       "    </tr>\n",
       "    <tr>\n",
       "      <th>...</th>\n",
       "      <td>...</td>\n",
       "      <td>...</td>\n",
       "      <td>...</td>\n",
       "      <td>...</td>\n",
       "    </tr>\n",
       "    <tr>\n",
       "      <th>995</th>\n",
       "      <td>C</td>\n",
       "      <td>3</td>\n",
       "      <td>0.258147</td>\n",
       "      <td>1.703393</td>\n",
       "    </tr>\n",
       "    <tr>\n",
       "      <th>996</th>\n",
       "      <td>B</td>\n",
       "      <td>63</td>\n",
       "      <td>0.860201</td>\n",
       "      <td>1.728989</td>\n",
       "    </tr>\n",
       "    <tr>\n",
       "      <th>997</th>\n",
       "      <td>C</td>\n",
       "      <td>77</td>\n",
       "      <td>0.755854</td>\n",
       "      <td>1.703393</td>\n",
       "    </tr>\n",
       "    <tr>\n",
       "      <th>998</th>\n",
       "      <td>A</td>\n",
       "      <td>57</td>\n",
       "      <td>1.036929</td>\n",
       "      <td>1.564087</td>\n",
       "    </tr>\n",
       "    <tr>\n",
       "      <th>999</th>\n",
       "      <td>D</td>\n",
       "      <td>22</td>\n",
       "      <td>0.402251</td>\n",
       "      <td>1.615334</td>\n",
       "    </tr>\n",
       "  </tbody>\n",
       "</table>\n",
       "<p>1000 rows × 4 columns</p>\n",
       "</div>"
      ],
      "text/plain": [
       "    letters  ints      nums  whatever\n",
       "0         A    67  3.437796  1.564087\n",
       "1         A    70  0.200191  1.564087\n",
       "2         A    64  2.216005  1.564087\n",
       "3         D    98  0.915473  1.615334\n",
       "4         B     7  0.826135  1.728989\n",
       "..      ...   ...       ...       ...\n",
       "995       C     3  0.258147  1.703393\n",
       "996       B    63  0.860201  1.728989\n",
       "997       C    77  0.755854  1.703393\n",
       "998       A    57  1.036929  1.564087\n",
       "999       D    22  0.402251  1.615334\n",
       "\n",
       "[1000 rows x 4 columns]"
      ]
     },
     "execution_count": 18,
     "metadata": {},
     "output_type": "execute_result"
    }
   ],
   "source": [
    "#df.assign(whatever = lambda df: df.groupby(\"letters\")[\"nums\"].transform(lambda x: np.mean(x)))\n",
    "df.assign(whatever = df.groupby(\"letters\")[\"nums\"].transform(lambda x: np.mean(x)))"
   ]
  },
  {
   "cell_type": "code",
   "execution_count": 17,
   "metadata": {},
   "outputs": [
    {
     "data": {
      "text/plain": [
       "0      1.564087\n",
       "1      1.564087\n",
       "2      1.564087\n",
       "3      1.615334\n",
       "4      1.728989\n",
       "         ...   \n",
       "995    1.703393\n",
       "996    1.728989\n",
       "997    1.703393\n",
       "998    1.564087\n",
       "999    1.615334\n",
       "Name: nums, Length: 1000, dtype: float64"
      ]
     },
     "execution_count": 17,
     "metadata": {},
     "output_type": "execute_result"
    }
   ],
   "source": [
    "df.groupby(\"letters\")[\"nums\"].transform(lambda x: np.mean(x))"
   ]
  }
 ],
 "metadata": {
  "kernelspec": {
   "display_name": "Python 3",
   "language": "python",
   "name": "python3"
  },
  "language_info": {
   "codemirror_mode": {
    "name": "ipython",
    "version": 3
   },
   "file_extension": ".py",
   "mimetype": "text/x-python",
   "name": "python",
   "nbconvert_exporter": "python",
   "pygments_lexer": "ipython3",
   "version": "3.7.6"
  }
 },
 "nbformat": 4,
 "nbformat_minor": 4
}
