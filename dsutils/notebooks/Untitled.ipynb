{
 "cells": [
  {
   "cell_type": "code",
   "execution_count": 1,
   "metadata": {},
   "outputs": [],
   "source": [
    "import os\n",
    "import pandas as pd\n",
    "import numpy as np"
   ]
  },
  {
   "cell_type": "code",
   "execution_count": 2,
   "metadata": {},
   "outputs": [],
   "source": [
    "from dsutils._decorators import _groupby_apply_ungroup"
   ]
  },
  {
   "cell_type": "code",
   "execution_count": 3,
   "metadata": {},
   "outputs": [],
   "source": [
    "N=1000"
   ]
  },
  {
   "cell_type": "code",
   "execution_count": 4,
   "metadata": {},
   "outputs": [],
   "source": [
    "df = pd.DataFrame(\n",
    "{\n",
    "    \"letters\": np.random.choice(list(\"ABCD\"),size=N),\n",
    "    \"ints\": np.random.randint(0,100,N),\n",
    "    \"nums\": np.random.lognormal(size=N)\n",
    "})"
   ]
  },
  {
   "cell_type": "code",
   "execution_count": 5,
   "metadata": {},
   "outputs": [
    {
     "data": {
      "text/html": [
       "<div>\n",
       "<style scoped>\n",
       "    .dataframe tbody tr th:only-of-type {\n",
       "        vertical-align: middle;\n",
       "    }\n",
       "\n",
       "    .dataframe tbody tr th {\n",
       "        vertical-align: top;\n",
       "    }\n",
       "\n",
       "    .dataframe thead th {\n",
       "        text-align: right;\n",
       "    }\n",
       "</style>\n",
       "<table border=\"1\" class=\"dataframe\">\n",
       "  <thead>\n",
       "    <tr style=\"text-align: right;\">\n",
       "      <th></th>\n",
       "      <th>letters</th>\n",
       "      <th>ints</th>\n",
       "      <th>nums</th>\n",
       "      <th>whatever</th>\n",
       "    </tr>\n",
       "  </thead>\n",
       "  <tbody>\n",
       "    <tr>\n",
       "      <th>0</th>\n",
       "      <td>C</td>\n",
       "      <td>53</td>\n",
       "      <td>0.798684</td>\n",
       "      <td>1.580267</td>\n",
       "    </tr>\n",
       "    <tr>\n",
       "      <th>1</th>\n",
       "      <td>D</td>\n",
       "      <td>18</td>\n",
       "      <td>1.170807</td>\n",
       "      <td>1.688552</td>\n",
       "    </tr>\n",
       "    <tr>\n",
       "      <th>2</th>\n",
       "      <td>B</td>\n",
       "      <td>1</td>\n",
       "      <td>0.635620</td>\n",
       "      <td>1.725104</td>\n",
       "    </tr>\n",
       "    <tr>\n",
       "      <th>3</th>\n",
       "      <td>B</td>\n",
       "      <td>0</td>\n",
       "      <td>0.533419</td>\n",
       "      <td>1.725104</td>\n",
       "    </tr>\n",
       "    <tr>\n",
       "      <th>4</th>\n",
       "      <td>C</td>\n",
       "      <td>46</td>\n",
       "      <td>1.853820</td>\n",
       "      <td>1.580267</td>\n",
       "    </tr>\n",
       "    <tr>\n",
       "      <th>...</th>\n",
       "      <td>...</td>\n",
       "      <td>...</td>\n",
       "      <td>...</td>\n",
       "      <td>...</td>\n",
       "    </tr>\n",
       "    <tr>\n",
       "      <th>995</th>\n",
       "      <td>A</td>\n",
       "      <td>23</td>\n",
       "      <td>3.397311</td>\n",
       "      <td>1.532860</td>\n",
       "    </tr>\n",
       "    <tr>\n",
       "      <th>996</th>\n",
       "      <td>A</td>\n",
       "      <td>99</td>\n",
       "      <td>2.950617</td>\n",
       "      <td>1.532860</td>\n",
       "    </tr>\n",
       "    <tr>\n",
       "      <th>997</th>\n",
       "      <td>D</td>\n",
       "      <td>33</td>\n",
       "      <td>0.830190</td>\n",
       "      <td>1.688552</td>\n",
       "    </tr>\n",
       "    <tr>\n",
       "      <th>998</th>\n",
       "      <td>D</td>\n",
       "      <td>53</td>\n",
       "      <td>8.235098</td>\n",
       "      <td>1.688552</td>\n",
       "    </tr>\n",
       "    <tr>\n",
       "      <th>999</th>\n",
       "      <td>A</td>\n",
       "      <td>21</td>\n",
       "      <td>1.132260</td>\n",
       "      <td>1.532860</td>\n",
       "    </tr>\n",
       "  </tbody>\n",
       "</table>\n",
       "<p>1000 rows × 4 columns</p>\n",
       "</div>"
      ],
      "text/plain": [
       "    letters  ints      nums  whatever\n",
       "0         C    53  0.798684  1.580267\n",
       "1         D    18  1.170807  1.688552\n",
       "2         B     1  0.635620  1.725104\n",
       "3         B     0  0.533419  1.725104\n",
       "4         C    46  1.853820  1.580267\n",
       "..      ...   ...       ...       ...\n",
       "995       A    23  3.397311  1.532860\n",
       "996       A    99  2.950617  1.532860\n",
       "997       D    33  0.830190  1.688552\n",
       "998       D    53  8.235098  1.688552\n",
       "999       A    21  1.132260  1.532860\n",
       "\n",
       "[1000 rows x 4 columns]"
      ]
     },
     "execution_count": 5,
     "metadata": {},
     "output_type": "execute_result"
    }
   ],
   "source": [
    "#df.assign(whatever = lambda df: df.groupby(\"letters\")[\"nums\"].transform(lambda x: np.mean(x)))\n",
    "df.assign(whatever = df.groupby(\"letters\")[\"nums\"].transform(lambda x: np.mean(x)))"
   ]
  },
  {
   "cell_type": "code",
   "execution_count": 17,
   "metadata": {},
   "outputs": [
    {
     "data": {
      "text/plain": [
       "0      1.564087\n",
       "1      1.564087\n",
       "2      1.564087\n",
       "3      1.615334\n",
       "4      1.728989\n",
       "         ...   \n",
       "995    1.703393\n",
       "996    1.728989\n",
       "997    1.703393\n",
       "998    1.564087\n",
       "999    1.615334\n",
       "Name: nums, Length: 1000, dtype: float64"
      ]
     },
     "execution_count": 17,
     "metadata": {},
     "output_type": "execute_result"
    }
   ],
   "source": [
    "df.groupby(\"letters\")[\"nums\"].transform(lambda x: np.mean(x))"
   ]
  }
 ],
 "metadata": {
  "kernelspec": {
   "display_name": "Python 3",
   "language": "python",
   "name": "python3"
  },
  "language_info": {
   "codemirror_mode": {
    "name": "ipython",
    "version": 3
   },
   "file_extension": ".py",
   "mimetype": "text/x-python",
   "name": "python",
   "nbconvert_exporter": "python",
   "pygments_lexer": "ipython3",
   "version": "3.7.9"
  }
 },
 "nbformat": 4,
 "nbformat_minor": 4
}
