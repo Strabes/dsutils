{
 "cells": [
  {
   "cell_type": "code",
   "execution_count": 1,
   "metadata": {},
   "outputs": [],
   "source": [
    "import os\n",
    "import sys\n",
    "import pandas as pd\n",
    "import numpy as np"
   ]
  },
  {
   "cell_type": "code",
   "execution_count": 38,
   "metadata": {},
   "outputs": [
    {
     "output_type": "execute_result",
     "data": {
      "text/plain": [
       "                              x                             y\n",
       "0               Today is Friday   First, I have to work today\n",
       "1  I can't wait for the weekend   Tomorrow will be fun though\n",
       "2              another sentence       why isn't this working?\n",
       "3          tomorrow is saturday  there appears to be an issue\n",
       "4          notastopword weekend            notastopword issue"
      ],
      "text/html": "<div>\n<style scoped>\n    .dataframe tbody tr th:only-of-type {\n        vertical-align: middle;\n    }\n\n    .dataframe tbody tr th {\n        vertical-align: top;\n    }\n\n    .dataframe thead th {\n        text-align: right;\n    }\n</style>\n<table border=\"1\" class=\"dataframe\">\n  <thead>\n    <tr style=\"text-align: right;\">\n      <th></th>\n      <th>x</th>\n      <th>y</th>\n    </tr>\n  </thead>\n  <tbody>\n    <tr>\n      <th>0</th>\n      <td>Today is Friday</td>\n      <td>First, I have to work today</td>\n    </tr>\n    <tr>\n      <th>1</th>\n      <td>I can't wait for the weekend</td>\n      <td>Tomorrow will be fun though</td>\n    </tr>\n    <tr>\n      <th>2</th>\n      <td>another sentence</td>\n      <td>why isn't this working?</td>\n    </tr>\n    <tr>\n      <th>3</th>\n      <td>tomorrow is saturday</td>\n      <td>there appears to be an issue</td>\n    </tr>\n    <tr>\n      <th>4</th>\n      <td>notastopword weekend</td>\n      <td>notastopword issue</td>\n    </tr>\n  </tbody>\n</table>\n</div>"
     },
     "metadata": {},
     "execution_count": 38
    }
   ],
   "source": [
    "df = pd.DataFrame({\n",
    "    'x':[\"Today is Friday\", \"I can't wait for the weekend\",\"another sentence\",\"tomorrow is saturday\",\"notastopword weekend\"],\n",
    "    'y':[\"First, I have to work today\",\"Tomorrow will be fun though\",\"why isn't this working?\",\"there appears to be an issue\",\"notastopword issue\"]})\n",
    "df"
   ]
  },
  {
   "cell_type": "code",
   "execution_count": 39,
   "metadata": {},
   "outputs": [
    {
     "output_type": "execute_result",
     "data": {
      "text/plain": [
       "<5x19 sparse matrix of type '<class 'numpy.float64'>'\n",
       "\twith 22 stored elements in Compressed Sparse Row format>"
      ]
     },
     "metadata": {},
     "execution_count": 39
    }
   ],
   "source": [
    "from sklearn.feature_extraction.text import TfidfVectorizer\n",
    "tfidf1 = TfidfVectorizer()\n",
    "tfidf2 = TfidfVectorizer()\n",
    "tfidf1.fit_transform(df.x)\n",
    "tfidf2.fit_transform(df.y)"
   ]
  },
  {
   "cell_type": "code",
   "execution_count": 47,
   "metadata": {},
   "outputs": [
    {
     "output_type": "execute_result",
     "data": {
      "text/plain": [
       "{'first': 3,\n",
       " 'have': 5,\n",
       " 'to': 12,\n",
       " 'work': 17,\n",
       " 'today': 13,\n",
       " 'tomorrow': 14,\n",
       " 'will': 16,\n",
       " 'be': 2,\n",
       " 'fun': 4,\n",
       " 'though': 11,\n",
       " 'why': 15,\n",
       " 'isn': 6,\n",
       " 'this': 10,\n",
       " 'working': 18,\n",
       " 'there': 9,\n",
       " 'appears': 1,\n",
       " 'an': 0,\n",
       " 'issue': 7,\n",
       " 'notastopword': 8}"
      ]
     },
     "metadata": {},
     "execution_count": 47
    }
   ],
   "source": [
    "tfidf2.vocabulary_"
   ]
  },
  {
   "cell_type": "code",
   "execution_count": 40,
   "metadata": {},
   "outputs": [],
   "source": [
    "from sklearn.pipeline import Pipeline\n",
    "from sklearn.compose import ColumnTransformer, make_column_selector"
   ]
  },
  {
   "cell_type": "code",
   "execution_count": 41,
   "metadata": {},
   "outputs": [
    {
     "output_type": "execute_result",
     "data": {
      "text/plain": [
       "['y']"
      ]
     },
     "metadata": {},
     "execution_count": 41
    }
   ],
   "source": [
    "make_column_selector(pattern=\"y\")(df)"
   ]
  },
  {
   "cell_type": "code",
   "execution_count": 55,
   "metadata": {},
   "outputs": [],
   "source": [
    "p = Pipeline([\n",
    "    (\"tfidf\",ColumnTransformer([\n",
    "    (\"xtfidf\",VectorizeText(),make_column_selector(pattern=\"x\")),\n",
    "    (\"ytfidf\",VectorizeText(),make_column_selector(pattern=\"y\"))\n",
    "    ],sparse_threshold = 0.0)\n",
    "    )\n",
    "])"
   ]
  },
  {
   "cell_type": "code",
   "execution_count": 67,
   "metadata": {},
   "outputs": [
    {
     "output_type": "execute_result",
     "data": {
      "text/plain": [
       "array([[0.        , 0.        , 0.        , 0.61418897, 0.49552379,\n",
       "        0.        , 0.        , 0.        , 0.        , 0.61418897,\n",
       "        0.        , 0.        , 0.        , 0.        , 0.        ,\n",
       "        0.        , 0.46369322, 0.        , 0.46369322, 0.        ,\n",
       "        0.        , 0.        , 0.        , 0.        , 0.        ,\n",
       "        0.37410477, 0.46369322, 0.        , 0.        , 0.        ,\n",
       "        0.46369322, 0.        ],\n",
       "       [0.        , 0.46369322, 0.46369322, 0.        , 0.        ,\n",
       "        0.        , 0.        , 0.        , 0.46369322, 0.        ,\n",
       "        0.        , 0.46369322, 0.37410477, 0.        , 0.        ,\n",
       "        0.37410477, 0.        , 0.46369322, 0.        , 0.        ,\n",
       "        0.        , 0.        , 0.        , 0.        , 0.46369322,\n",
       "        0.        , 0.        , 0.46369322, 0.        , 0.46369322,\n",
       "        0.        , 0.        ],\n",
       "       [0.70710678, 0.        , 0.        , 0.        , 0.        ,\n",
       "        0.        , 0.        , 0.70710678, 0.        , 0.        ,\n",
       "        0.        , 0.        , 0.        , 0.        , 0.        ,\n",
       "        0.        , 0.        , 0.        , 0.        , 0.5       ,\n",
       "        0.        , 0.        , 0.        , 0.5       , 0.        ,\n",
       "        0.        , 0.        , 0.        , 0.5       , 0.        ,\n",
       "        0.        , 0.5       ],\n",
       "       [0.        , 0.        , 0.        , 0.        , 0.49552379,\n",
       "        0.        , 0.61418897, 0.        , 0.        , 0.        ,\n",
       "        0.61418897, 0.        , 0.        , 0.44934185, 0.44934185,\n",
       "        0.36252618, 0.        , 0.        , 0.        , 0.        ,\n",
       "        0.36252618, 0.        , 0.44934185, 0.        , 0.        ,\n",
       "        0.36252618, 0.        , 0.        , 0.        , 0.        ,\n",
       "        0.        , 0.        ],\n",
       "       [0.        , 0.        , 0.        , 0.        , 0.        ,\n",
       "        0.77828292, 0.        , 0.        , 0.        , 0.        ,\n",
       "        0.        , 0.        , 0.62791376, 0.        , 0.        ,\n",
       "        0.        , 0.        , 0.        , 0.        , 0.        ,\n",
       "        0.62791376, 0.77828292, 0.        , 0.        , 0.        ,\n",
       "        0.        , 0.        , 0.        , 0.        , 0.        ,\n",
       "        0.        , 0.        ]])"
      ]
     },
     "metadata": {},
     "execution_count": 67
    }
   ],
   "source": [
    "p.fit_transform(df[[\"x\",\"y\"]])"
   ]
  },
  {
   "cell_type": "code",
   "execution_count": 66,
   "metadata": {},
   "outputs": [
    {
     "output_type": "execute_result",
     "data": {
      "text/plain": [
       "['another',\n",
       " 'can',\n",
       " 'for',\n",
       " 'friday',\n",
       " 'is',\n",
       " 'notastopword',\n",
       " 'saturday',\n",
       " 'sentence',\n",
       " 'the',\n",
       " 'today',\n",
       " 'tomorrow',\n",
       " 'wait',\n",
       " 'weekend']"
      ]
     },
     "metadata": {},
     "execution_count": 66
    }
   ],
   "source": [
    "p[\"tfidf\"].transformers_[0][1].vectorizer.get_feature_names()"
   ]
  },
  {
   "cell_type": "code",
   "execution_count": 54,
   "metadata": {},
   "outputs": [],
   "source": [
    "from sklearn.base import BaseEstimator, TransformerMixin\n",
    "from sklearn.feature_extraction.text import TfidfVectorizer\n",
    "import pandas as pd\n",
    "\n",
    "class VectorizeText(BaseEstimator, TransformerMixin):\n",
    "\n",
    "    def __init__(self, vectorizer = TfidfVectorizer()):\n",
    "        self.vectorizer = vectorizer\n",
    "\n",
    "    def fit(self, X, y = None):\n",
    "        self.vectorizer = self.vectorizer.fit(X.iloc[:,0], y)\n",
    "        return self\n",
    "    \n",
    "    def transform(self, X):\n",
    "        variable = X.columns.tolist()[0]\n",
    "        res = self.vectorizer.transform(X.iloc[:,0])\n",
    "        res_df = pd.DataFrame(\n",
    "            res.todense(),\n",
    "            columns = [variable + \"_\" + i for i in self.vectorizer.get_feature_names()]\n",
    "        )\n",
    "        return res_df"
   ]
  },
  {
   "cell_type": "code",
   "execution_count": 3,
   "metadata": {},
   "outputs": [],
   "source": [
    "N=1000"
   ]
  },
  {
   "cell_type": "code",
   "execution_count": 4,
   "metadata": {},
   "outputs": [],
   "source": [
    "df = pd.DataFrame(\n",
    "{\n",
    "    \"letters\": np.random.choice(list(\"ABCD\"),size=N),\n",
    "    \"ints\": np.random.randint(0,100,N),\n",
    "    \"nums\": np.random.lognormal(size=N)\n",
    "})"
   ]
  },
  {
   "cell_type": "code",
   "execution_count": 5,
   "metadata": {},
   "outputs": [
    {
     "data": {
      "text/html": [
       "<div>\n",
       "<style scoped>\n",
       "    .dataframe tbody tr th:only-of-type {\n",
       "        vertical-align: middle;\n",
       "    }\n",
       "\n",
       "    .dataframe tbody tr th {\n",
       "        vertical-align: top;\n",
       "    }\n",
       "\n",
       "    .dataframe thead th {\n",
       "        text-align: right;\n",
       "    }\n",
       "</style>\n",
       "<table border=\"1\" class=\"dataframe\">\n",
       "  <thead>\n",
       "    <tr style=\"text-align: right;\">\n",
       "      <th></th>\n",
       "      <th>letters</th>\n",
       "      <th>ints</th>\n",
       "      <th>nums</th>\n",
       "      <th>whatever</th>\n",
       "    </tr>\n",
       "  </thead>\n",
       "  <tbody>\n",
       "    <tr>\n",
       "      <th>0</th>\n",
       "      <td>C</td>\n",
       "      <td>53</td>\n",
       "      <td>0.798684</td>\n",
       "      <td>1.580267</td>\n",
       "    </tr>\n",
       "    <tr>\n",
       "      <th>1</th>\n",
       "      <td>D</td>\n",
       "      <td>18</td>\n",
       "      <td>1.170807</td>\n",
       "      <td>1.688552</td>\n",
       "    </tr>\n",
       "    <tr>\n",
       "      <th>2</th>\n",
       "      <td>B</td>\n",
       "      <td>1</td>\n",
       "      <td>0.635620</td>\n",
       "      <td>1.725104</td>\n",
       "    </tr>\n",
       "    <tr>\n",
       "      <th>3</th>\n",
       "      <td>B</td>\n",
       "      <td>0</td>\n",
       "      <td>0.533419</td>\n",
       "      <td>1.725104</td>\n",
       "    </tr>\n",
       "    <tr>\n",
       "      <th>4</th>\n",
       "      <td>C</td>\n",
       "      <td>46</td>\n",
       "      <td>1.853820</td>\n",
       "      <td>1.580267</td>\n",
       "    </tr>\n",
       "    <tr>\n",
       "      <th>...</th>\n",
       "      <td>...</td>\n",
       "      <td>...</td>\n",
       "      <td>...</td>\n",
       "      <td>...</td>\n",
       "    </tr>\n",
       "    <tr>\n",
       "      <th>995</th>\n",
       "      <td>A</td>\n",
       "      <td>23</td>\n",
       "      <td>3.397311</td>\n",
       "      <td>1.532860</td>\n",
       "    </tr>\n",
       "    <tr>\n",
       "      <th>996</th>\n",
       "      <td>A</td>\n",
       "      <td>99</td>\n",
       "      <td>2.950617</td>\n",
       "      <td>1.532860</td>\n",
       "    </tr>\n",
       "    <tr>\n",
       "      <th>997</th>\n",
       "      <td>D</td>\n",
       "      <td>33</td>\n",
       "      <td>0.830190</td>\n",
       "      <td>1.688552</td>\n",
       "    </tr>\n",
       "    <tr>\n",
       "      <th>998</th>\n",
       "      <td>D</td>\n",
       "      <td>53</td>\n",
       "      <td>8.235098</td>\n",
       "      <td>1.688552</td>\n",
       "    </tr>\n",
       "    <tr>\n",
       "      <th>999</th>\n",
       "      <td>A</td>\n",
       "      <td>21</td>\n",
       "      <td>1.132260</td>\n",
       "      <td>1.532860</td>\n",
       "    </tr>\n",
       "  </tbody>\n",
       "</table>\n",
       "<p>1000 rows × 4 columns</p>\n",
       "</div>"
      ],
      "text/plain": [
       "    letters  ints      nums  whatever\n",
       "0         C    53  0.798684  1.580267\n",
       "1         D    18  1.170807  1.688552\n",
       "2         B     1  0.635620  1.725104\n",
       "3         B     0  0.533419  1.725104\n",
       "4         C    46  1.853820  1.580267\n",
       "..      ...   ...       ...       ...\n",
       "995       A    23  3.397311  1.532860\n",
       "996       A    99  2.950617  1.532860\n",
       "997       D    33  0.830190  1.688552\n",
       "998       D    53  8.235098  1.688552\n",
       "999       A    21  1.132260  1.532860\n",
       "\n",
       "[1000 rows x 4 columns]"
      ]
     },
     "execution_count": 5,
     "metadata": {},
     "output_type": "execute_result"
    }
   ],
   "source": [
    "#df.assign(whatever = lambda df: df.groupby(\"letters\")[\"nums\"].transform(lambda x: np.mean(x)))\n",
    "df.assign(whatever = df.groupby(\"letters\")[\"nums\"].transform(lambda x: np.mean(x)))"
   ]
  },
  {
   "cell_type": "code",
   "execution_count": 17,
   "metadata": {},
   "outputs": [
    {
     "data": {
      "text/plain": [
       "0      1.564087\n",
       "1      1.564087\n",
       "2      1.564087\n",
       "3      1.615334\n",
       "4      1.728989\n",
       "         ...   \n",
       "995    1.703393\n",
       "996    1.728989\n",
       "997    1.703393\n",
       "998    1.564087\n",
       "999    1.615334\n",
       "Name: nums, Length: 1000, dtype: float64"
      ]
     },
     "execution_count": 17,
     "metadata": {},
     "output_type": "execute_result"
    }
   ],
   "source": [
    "df.groupby(\"letters\")[\"nums\"].transform(lambda x: np.mean(x))"
   ]
  }
 ],
 "metadata": {
  "kernelspec": {
   "name": "python379jvsc74a57bd0bc7f50390e42f6c1331f86e9f26dea63ec7b34656187ee4894a92f7c1595689f",
   "display_name": "Python 3.7.9 64-bit (conda)"
  },
  "language_info": {
   "codemirror_mode": {
    "name": "ipython",
    "version": 3
   },
   "file_extension": ".py",
   "mimetype": "text/x-python",
   "name": "python",
   "nbconvert_exporter": "python",
   "pygments_lexer": "ipython3",
   "version": "3.7.9-final"
  }
 },
 "nbformat": 4,
 "nbformat_minor": 4
}