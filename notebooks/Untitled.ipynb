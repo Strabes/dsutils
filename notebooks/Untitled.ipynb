{
 "cells": [
  {
   "cell_type": "code",
   "execution_count": 1,
   "metadata": {},
   "outputs": [],
   "source": [
    "import os\n",
    "import sys\n",
    "import pandas as pd\n",
    "import numpy as np\n",
    "from dsutils.utils.dates import bin_dates"
   ]
  },
  {
   "cell_type": "code",
   "execution_count": 43,
   "metadata": {},
   "outputs": [
    {
     "output_type": "execute_result",
     "data": {
      "text/plain": [
       "          dt\n",
       "0 2021-03-07\n",
       "1 2020-12-19\n",
       "2 2021-01-20\n",
       "3 2020-04-24\n",
       "4 2020-03-31\n",
       "5 2021-10-19\n",
       "6 2020-06-26\n",
       "7 2020-11-29\n",
       "8 2021-04-06\n",
       "9 2020-02-10"
      ],
      "text/html": "<div>\n<style scoped>\n    .dataframe tbody tr th:only-of-type {\n        vertical-align: middle;\n    }\n\n    .dataframe tbody tr th {\n        vertical-align: top;\n    }\n\n    .dataframe thead th {\n        text-align: right;\n    }\n</style>\n<table border=\"1\" class=\"dataframe\">\n  <thead>\n    <tr style=\"text-align: right;\">\n      <th></th>\n      <th>dt</th>\n    </tr>\n  </thead>\n  <tbody>\n    <tr>\n      <th>0</th>\n      <td>2021-03-07</td>\n    </tr>\n    <tr>\n      <th>1</th>\n      <td>2020-12-19</td>\n    </tr>\n    <tr>\n      <th>2</th>\n      <td>2021-01-20</td>\n    </tr>\n    <tr>\n      <th>3</th>\n      <td>2020-04-24</td>\n    </tr>\n    <tr>\n      <th>4</th>\n      <td>2020-03-31</td>\n    </tr>\n    <tr>\n      <th>5</th>\n      <td>2021-10-19</td>\n    </tr>\n    <tr>\n      <th>6</th>\n      <td>2020-06-26</td>\n    </tr>\n    <tr>\n      <th>7</th>\n      <td>2020-11-29</td>\n    </tr>\n    <tr>\n      <th>8</th>\n      <td>2021-04-06</td>\n    </tr>\n    <tr>\n      <th>9</th>\n      <td>2020-02-10</td>\n    </tr>\n  </tbody>\n</table>\n</div>"
     },
     "metadata": {},
     "execution_count": 43
    }
   ],
   "source": [
    "df = pd.DataFrame(\n",
    "    {'dt':np.random.choice(pd.date_range('2020-01-15','2021-12-31'),10)})\n",
    "df"
   ]
  },
  {
   "cell_type": "code",
   "execution_count": 54,
   "metadata": {},
   "outputs": [
    {
     "output_type": "execute_result",
     "data": {
      "text/plain": [
       "dt    datetime64[ns]\n",
       "dtype: object"
      ]
     },
     "metadata": {},
     "execution_count": 54
    }
   ],
   "source": [
    "df.dtypes"
   ]
  },
  {
   "cell_type": "code",
   "execution_count": 49,
   "metadata": {},
   "outputs": [
    {
     "output_type": "execute_result",
     "data": {
      "text/plain": [
       "'{\"dt\":{\"0\":\"2021-03-07\",\"1\":\"2020-12-19\",\"2\":\"2021-01-20\",\"3\":\"2020-04-24\",\"4\":\"2020-03-31\",\"5\":\"2021-10-19\",\"6\":\"2020-06-26\",\"7\":\"2020-11-29\",\"8\":\"2021-04-06\",\"9\":\"2020-02-10\"}}'"
      ]
     },
     "metadata": {},
     "execution_count": 49
    }
   ],
   "source": [
    "d = df.assign(dt = lambda df: df.dt.astype('str')).to_json()\n",
    "d"
   ]
  },
  {
   "cell_type": "code",
   "execution_count": 63,
   "metadata": {},
   "outputs": [
    {
     "output_type": "execute_result",
     "data": {
      "text/plain": [
       "dt    datetime64[ns]\n",
       "dtype: object"
      ]
     },
     "metadata": {},
     "execution_count": 63
    }
   ],
   "source": [
    "example_data = pd.read_json(d).assign(dt = lambda df : pd.to_datetime(df.dt))\n",
    "\n",
    "example_data.dtypes"
   ]
  },
  {
   "cell_type": "code",
   "execution_count": 67,
   "metadata": {},
   "outputs": [
    {
     "output_type": "execute_result",
     "data": {
      "text/plain": [
       "'{\"dt\":{\"0\":\"2021-04-16\",\"1\":\"2020-12-14\",\"2\":\"2020-12-14\",\"3\":\"2020-04-11\",\"4\":\"2020-04-11\",\"5\":\"2021-08-18\",\"6\":\"2020-08-12\",\"7\":\"2020-12-14\",\"8\":\"2021-04-16\",\"9\":\"2020-04-11\"}}'"
      ]
     },
     "metadata": {},
     "execution_count": 67
    }
   ],
   "source": [
    "#pd.read_json(bin_dates(example_data.dt,bins=5).to_json())\n",
    "#pd.read_json?\n",
    "bin_dates(example_data.dt,bins=5).to_frame().assign(dt = lambda df: df.dt.astype(str)).to_json()"
   ]
  },
  {
   "cell_type": "code",
   "execution_count": 72,
   "metadata": {},
   "outputs": [
    {
     "output_type": "execute_result",
     "data": {
      "text/plain": [
       "dt    datetime64[ns]\n",
       "dtype: object"
      ]
     },
     "metadata": {},
     "execution_count": 72
    }
   ],
   "source": [
    "bin_dates(example_data.dt,bins=5).to_frame().assign(dt = lambda df: pd.to_datetime(df.dt)).dtypes"
   ]
  },
  {
   "cell_type": "code",
   "execution_count": 35,
   "metadata": {},
   "outputs": [
    {
     "output_type": "execute_result",
     "data": {
      "text/plain": [
       "'{\"dt\":{\"0\":\"2021-01-16\",\"1\":\"2021-01-16\",\"2\":\"2021-01-16\",\"3\":\"2021-01-16\",\"4\":\"2021-01-19\",\"5\":\"2021-01-19\",\"6\":\"2021-01-19\",\"7\":\"2021-01-22\",\"8\":\"2021-01-22\",\"9\":\"2021-01-22\",\"10\":\"2021-01-25\",\"11\":\"2021-01-25\",\"12\":\"2021-01-25\",\"13\":\"2021-01-28\",\"14\":\"2021-01-28\",\"15\":\"2021-01-28\",\"16\":\"2021-01-31\",\"17\":\"2021-01-31\",\"18\":\"2021-01-31\",\"19\":\"2021-02-03\",\"20\":\"2021-02-03\",\"21\":\"2021-02-03\",\"22\":\"2021-02-06\",\"23\":\"2021-02-06\",\"24\":\"2021-02-06\",\"25\":\"2021-02-09\",\"26\":\"2021-02-09\",\"27\":\"2021-02-09\",\"28\":\"2021-02-13\",\"29\":\"2021-02-13\",\"30\":\"2021-02-13\",\"31\":\"2021-02-13\"}}'"
      ]
     },
     "metadata": {},
     "execution_count": 35
    }
   ],
   "source": [
    "df2 = (df.copy().assign(dt = lambda df: pd.to_datetime(bin_dates(df.dt)))\n",
    "  .assign(dt = lambda df: df.dt.dt.strftime(\"%Y-%m-%d\"))\n",
    "  )\n",
    "\n",
    "#.dt.strftime('%Y-%m-%d'))\n",
    "df2.to_json()"
   ]
  },
  {
   "cell_type": "code",
   "execution_count": 18,
   "metadata": {},
   "outputs": [
    {
     "output_type": "execute_result",
     "data": {
      "text/plain": [
       "0    1970-01-01 00:26:50.755200\n",
       "1    1970-01-01 00:26:50.755200\n",
       "10   1970-01-01 00:26:51.532800\n",
       "11   1970-01-01 00:26:51.532800\n",
       "12   1970-01-01 00:26:51.532800\n",
       "13   1970-01-01 00:26:51.792000\n",
       "14   1970-01-01 00:26:51.792000\n",
       "15   1970-01-01 00:26:51.792000\n",
       "16   1970-01-01 00:26:52.051200\n",
       "17   1970-01-01 00:26:52.051200\n",
       "18   1970-01-01 00:26:52.051200\n",
       "19   1970-01-01 00:26:52.310400\n",
       "2    1970-01-01 00:26:50.755200\n",
       "20   1970-01-01 00:26:52.310400\n",
       "21   1970-01-01 00:26:52.310400\n",
       "22   1970-01-01 00:26:52.569600\n",
       "23   1970-01-01 00:26:52.569600\n",
       "24   1970-01-01 00:26:52.569600\n",
       "25   1970-01-01 00:26:52.828800\n",
       "26   1970-01-01 00:26:52.828800\n",
       "27   1970-01-01 00:26:52.828800\n",
       "28   1970-01-01 00:26:53.174400\n",
       "29   1970-01-01 00:26:53.174400\n",
       "3    1970-01-01 00:26:50.755200\n",
       "30   1970-01-01 00:26:53.174400\n",
       "31   1970-01-01 00:26:53.174400\n",
       "4    1970-01-01 00:26:51.014400\n",
       "5    1970-01-01 00:26:51.014400\n",
       "6    1970-01-01 00:26:51.014400\n",
       "7    1970-01-01 00:26:51.273600\n",
       "8    1970-01-01 00:26:51.273600\n",
       "9    1970-01-01 00:26:51.273600\n",
       "Name: dt, dtype: datetime64[ns]"
      ]
     },
     "metadata": {},
     "execution_count": 18
    }
   ],
   "source": [
    "pd.to_datetime(df2['dt'])"
   ]
  },
  {
   "cell_type": "code",
   "execution_count": 7,
   "metadata": {},
   "outputs": [
    {
     "output_type": "stream",
     "text": [
      "\u001b[1;31mSignature:\u001b[0m\n",
      "\u001b[0mpd\u001b[0m\u001b[1;33m.\u001b[0m\u001b[0mdate_range\u001b[0m\u001b[1;33m(\u001b[0m\u001b[1;33m\n",
      "\u001b[0m    \u001b[0mstart\u001b[0m\u001b[1;33m=\u001b[0m\u001b[1;32mNone\u001b[0m\u001b[1;33m,\u001b[0m\u001b[1;33m\n",
      "\u001b[0m    \u001b[0mend\u001b[0m\u001b[1;33m=\u001b[0m\u001b[1;32mNone\u001b[0m\u001b[1;33m,\u001b[0m\u001b[1;33m\n",
      "\u001b[0m    \u001b[0mperiods\u001b[0m\u001b[1;33m=\u001b[0m\u001b[1;32mNone\u001b[0m\u001b[1;33m,\u001b[0m\u001b[1;33m\n",
      "\u001b[0m    \u001b[0mfreq\u001b[0m\u001b[1;33m=\u001b[0m\u001b[1;32mNone\u001b[0m\u001b[1;33m,\u001b[0m\u001b[1;33m\n",
      "\u001b[0m    \u001b[0mtz\u001b[0m\u001b[1;33m=\u001b[0m\u001b[1;32mNone\u001b[0m\u001b[1;33m,\u001b[0m\u001b[1;33m\n",
      "\u001b[0m    \u001b[0mnormalize\u001b[0m\u001b[1;33m=\u001b[0m\u001b[1;32mFalse\u001b[0m\u001b[1;33m,\u001b[0m\u001b[1;33m\n",
      "\u001b[0m    \u001b[0mname\u001b[0m\u001b[1;33m=\u001b[0m\u001b[1;32mNone\u001b[0m\u001b[1;33m,\u001b[0m\u001b[1;33m\n",
      "\u001b[0m    \u001b[0mclosed\u001b[0m\u001b[1;33m=\u001b[0m\u001b[1;32mNone\u001b[0m\u001b[1;33m,\u001b[0m\u001b[1;33m\n",
      "\u001b[0m    \u001b[1;33m**\u001b[0m\u001b[0mkwargs\u001b[0m\u001b[1;33m,\u001b[0m\u001b[1;33m\n",
      "\u001b[0m\u001b[1;33m)\u001b[0m \u001b[1;33m->\u001b[0m \u001b[0mpandas\u001b[0m\u001b[1;33m.\u001b[0m\u001b[0mcore\u001b[0m\u001b[1;33m.\u001b[0m\u001b[0mindexes\u001b[0m\u001b[1;33m.\u001b[0m\u001b[0mdatetimes\u001b[0m\u001b[1;33m.\u001b[0m\u001b[0mDatetimeIndex\u001b[0m\u001b[1;33m\u001b[0m\u001b[1;33m\u001b[0m\u001b[0m\n",
      "\u001b[1;31mDocstring:\u001b[0m\n",
      "Return a fixed frequency DatetimeIndex.\n",
      "\n",
      "Parameters\n",
      "----------\n",
      "start : str or datetime-like, optional\n",
      "    Left bound for generating dates.\n",
      "end : str or datetime-like, optional\n",
      "    Right bound for generating dates.\n",
      "periods : int, optional\n",
      "    Number of periods to generate.\n",
      "freq : str or DateOffset, default 'D'\n",
      "    Frequency strings can have multiples, e.g. '5H'. See\n",
      "    :ref:`here <timeseries.offset_aliases>` for a list of\n",
      "    frequency aliases.\n",
      "tz : str or tzinfo, optional\n",
      "    Time zone name for returning localized DatetimeIndex, for example\n",
      "    'Asia/Hong_Kong'. By default, the resulting DatetimeIndex is\n",
      "    timezone-naive.\n",
      "normalize : bool, default False\n",
      "    Normalize start/end dates to midnight before generating date range.\n",
      "name : str, default None\n",
      "    Name of the resulting DatetimeIndex.\n",
      "closed : {None, 'left', 'right'}, optional\n",
      "    Make the interval closed with respect to the given frequency to\n",
      "    the 'left', 'right', or both sides (None, the default).\n",
      "**kwargs\n",
      "    For compatibility. Has no effect on the result.\n",
      "\n",
      "Returns\n",
      "-------\n",
      "rng : DatetimeIndex\n",
      "\n",
      "See Also\n",
      "--------\n",
      "DatetimeIndex : An immutable container for datetimes.\n",
      "timedelta_range : Return a fixed frequency TimedeltaIndex.\n",
      "period_range : Return a fixed frequency PeriodIndex.\n",
      "interval_range : Return a fixed frequency IntervalIndex.\n",
      "\n",
      "Notes\n",
      "-----\n",
      "Of the four parameters ``start``, ``end``, ``periods``, and ``freq``,\n",
      "exactly three must be specified. If ``freq`` is omitted, the resulting\n",
      "``DatetimeIndex`` will have ``periods`` linearly spaced elements between\n",
      "``start`` and ``end`` (closed on both sides).\n",
      "\n",
      "To learn more about the frequency strings, please see `this link\n",
      "<https://pandas.pydata.org/pandas-docs/stable/user_guide/timeseries.html#offset-aliases>`__.\n",
      "\n",
      "Examples\n",
      "--------\n",
      "**Specifying the values**\n",
      "\n",
      "The next four examples generate the same `DatetimeIndex`, but vary\n",
      "the combination of `start`, `end` and `periods`.\n",
      "\n",
      "Specify `start` and `end`, with the default daily frequency.\n",
      "\n",
      ">>> pd.date_range(start='1/1/2018', end='1/08/2018')\n",
      "DatetimeIndex(['2018-01-01', '2018-01-02', '2018-01-03', '2018-01-04',\n",
      "               '2018-01-05', '2018-01-06', '2018-01-07', '2018-01-08'],\n",
      "              dtype='datetime64[ns]', freq='D')\n",
      "\n",
      "Specify `start` and `periods`, the number of periods (days).\n",
      "\n",
      ">>> pd.date_range(start='1/1/2018', periods=8)\n",
      "DatetimeIndex(['2018-01-01', '2018-01-02', '2018-01-03', '2018-01-04',\n",
      "               '2018-01-05', '2018-01-06', '2018-01-07', '2018-01-08'],\n",
      "              dtype='datetime64[ns]', freq='D')\n",
      "\n",
      "Specify `end` and `periods`, the number of periods (days).\n",
      "\n",
      ">>> pd.date_range(end='1/1/2018', periods=8)\n",
      "DatetimeIndex(['2017-12-25', '2017-12-26', '2017-12-27', '2017-12-28',\n",
      "               '2017-12-29', '2017-12-30', '2017-12-31', '2018-01-01'],\n",
      "              dtype='datetime64[ns]', freq='D')\n",
      "\n",
      "Specify `start`, `end`, and `periods`; the frequency is generated\n",
      "automatically (linearly spaced).\n",
      "\n",
      ">>> pd.date_range(start='2018-04-24', end='2018-04-27', periods=3)\n",
      "DatetimeIndex(['2018-04-24 00:00:00', '2018-04-25 12:00:00',\n",
      "               '2018-04-27 00:00:00'],\n",
      "              dtype='datetime64[ns]', freq=None)\n",
      "\n",
      "**Other Parameters**\n",
      "\n",
      "Changed the `freq` (frequency) to ``'M'`` (month end frequency).\n",
      "\n",
      ">>> pd.date_range(start='1/1/2018', periods=5, freq='M')\n",
      "DatetimeIndex(['2018-01-31', '2018-02-28', '2018-03-31', '2018-04-30',\n",
      "               '2018-05-31'],\n",
      "              dtype='datetime64[ns]', freq='M')\n",
      "\n",
      "Multiples are allowed\n",
      "\n",
      ">>> pd.date_range(start='1/1/2018', periods=5, freq='3M')\n",
      "DatetimeIndex(['2018-01-31', '2018-04-30', '2018-07-31', '2018-10-31',\n",
      "               '2019-01-31'],\n",
      "              dtype='datetime64[ns]', freq='3M')\n",
      "\n",
      "`freq` can also be specified as an Offset object.\n",
      "\n",
      ">>> pd.date_range(start='1/1/2018', periods=5, freq=pd.offsets.MonthEnd(3))\n",
      "DatetimeIndex(['2018-01-31', '2018-04-30', '2018-07-31', '2018-10-31',\n",
      "               '2019-01-31'],\n",
      "              dtype='datetime64[ns]', freq='3M')\n",
      "\n",
      "Specify `tz` to set the timezone.\n",
      "\n",
      ">>> pd.date_range(start='1/1/2018', periods=5, tz='Asia/Tokyo')\n",
      "DatetimeIndex(['2018-01-01 00:00:00+09:00', '2018-01-02 00:00:00+09:00',\n",
      "               '2018-01-03 00:00:00+09:00', '2018-01-04 00:00:00+09:00',\n",
      "               '2018-01-05 00:00:00+09:00'],\n",
      "              dtype='datetime64[ns, Asia/Tokyo]', freq='D')\n",
      "\n",
      "`closed` controls whether to include `start` and `end` that are on the\n",
      "boundary. The default includes boundary points on either end.\n",
      "\n",
      ">>> pd.date_range(start='2017-01-01', end='2017-01-04', closed=None)\n",
      "DatetimeIndex(['2017-01-01', '2017-01-02', '2017-01-03', '2017-01-04'],\n",
      "              dtype='datetime64[ns]', freq='D')\n",
      "\n",
      "Use ``closed='left'`` to exclude `end` if it falls on the boundary.\n",
      "\n",
      ">>> pd.date_range(start='2017-01-01', end='2017-01-04', closed='left')\n",
      "DatetimeIndex(['2017-01-01', '2017-01-02', '2017-01-03'],\n",
      "              dtype='datetime64[ns]', freq='D')\n",
      "\n",
      "Use ``closed='right'`` to exclude `start` if it falls on the boundary.\n",
      "\n",
      ">>> pd.date_range(start='2017-01-01', end='2017-01-04', closed='right')\n",
      "DatetimeIndex(['2017-01-02', '2017-01-03', '2017-01-04'],\n",
      "              dtype='datetime64[ns]', freq='D')\n",
      "\u001b[1;31mFile:\u001b[0m      c:\\users\\grego\\anaconda3\\lib\\site-packages\\pandas\\core\\indexes\\datetimes.py\n",
      "\u001b[1;31mType:\u001b[0m      function\n"
     ],
     "name": "stdout"
    }
   ],
   "source": [
    "pd.date_range?"
   ]
  }
 ],
 "metadata": {
  "kernelspec": {
   "name": "python379jvsc74a57bd0bc7f50390e42f6c1331f86e9f26dea63ec7b34656187ee4894a92f7c1595689f",
   "display_name": "Python 3.7.9 64-bit (conda)"
  },
  "language_info": {
   "codemirror_mode": {
    "name": "ipython",
    "version": 3
   },
   "file_extension": ".py",
   "mimetype": "text/x-python",
   "name": "python",
   "nbconvert_exporter": "python",
   "pygments_lexer": "ipython3",
   "version": "3.7.9-final"
  }
 },
 "nbformat": 4,
 "nbformat_minor": 4
}